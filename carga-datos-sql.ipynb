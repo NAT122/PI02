{
 "cells": [
  {
   "cell_type": "code",
   "execution_count": 1,
   "metadata": {},
   "outputs": [],
   "source": [
    "import pandas as pd\n",
    "import mysql.connector\n",
    "import pymysql\n"
   ]
  },
  {
   "cell_type": "code",
   "execution_count": 2,
   "metadata": {},
   "outputs": [],
   "source": [
    "import numpy as np"
   ]
  },
  {
   "cell_type": "markdown",
   "metadata": {},
   "source": [
    "Carga de archivos limpios a SQL"
   ]
  },
  {
   "cell_type": "code",
   "execution_count": 12,
   "metadata": {},
   "outputs": [
    {
     "name": "stdout",
     "output_type": "stream",
     "text": [
      "Todo correcto\n"
     ]
    }
   ],
   "source": [
    "\n",
    "\n",
    "connection = mysql.connector.connect(user='root', password='root1234',\n",
    "                              host='localhost',\n",
    "                              database='homicidios_a')\n",
    "\n",
    "df = pd.read_excel('D:/Users/Natalia/Desktop/PI02/homicidios .xlsx', sheet_name='HECHOS')\n",
    "\n",
    "cursor = connection.cursor()\n",
    "# Reemplazar 'SD' por valores nulos en el DataFrame\n",
    "df.replace('SD', None, inplace=True)\n",
    "df.fillna('', inplace=True)\n",
    "df['HH'] = df['HH'].replace('', -1, inplace=True) \n",
    "\n",
    "for i, row in df.iterrows():\n",
    "    # Corrección: Agrega comillas simples alrededor del marcador de posición %s\n",
    "    sql = \"INSERT INTO hechos VALUES (\" + \"%s,\"*(len(row)-1) + \"%s)\"\n",
    "    \n",
    "    cursor.execute(sql, tuple(row))\n",
    "\n",
    "connection.commit()\n",
    "\n",
    "print('Todo correcto')\n"
   ]
  },
  {
   "cell_type": "code",
   "execution_count": 25,
   "metadata": {},
   "outputs": [
    {
     "name": "stdout",
     "output_type": "stream",
     "text": [
      "Todo correcto\n"
     ]
    }
   ],
   "source": [
    "connection = mysql.connector.connect(user='root', password='root1234',\n",
    "                              host='localhost',\n",
    "                              database='homicidios_a')\n",
    "\n",
    "df = pd.read_excel('D:/Users/Natalia/Desktop/PI02/victimas.xlsx', sheet_name='victimas')\n",
    "\n",
    "cursor = connection.cursor()\n",
    "\n",
    "# Reemplazar valores 'nan' por None en el DataFrame\n",
    "df = df.where(pd.notna(df), None)\n",
    "\n",
    "for i, row in df.iterrows():\n",
    "    # Corrección: Agrega comillas simples alrededor del marcador de posición %s\n",
    "    sql = \"INSERT INTO victimas VALUES (\" + \"%s,\"*(len(row)-1) + \"%s)\"\n",
    "    \n",
    "    cursor.execute(sql, tuple(row))\n",
    "\n",
    "connection.commit()\n",
    "\n",
    "print('Todo correcto')\n",
    "\n"
   ]
  }
 ],
 "metadata": {
  "kernelspec": {
   "display_name": "Python 3",
   "language": "python",
   "name": "python3"
  },
  "language_info": {
   "codemirror_mode": {
    "name": "ipython",
    "version": 3
   },
   "file_extension": ".py",
   "mimetype": "text/x-python",
   "name": "python",
   "nbconvert_exporter": "python",
   "pygments_lexer": "ipython3",
   "version": "3.11.5"
  }
 },
 "nbformat": 4,
 "nbformat_minor": 2
}
